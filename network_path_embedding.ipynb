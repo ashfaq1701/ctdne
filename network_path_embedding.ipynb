{
 "cells": [
  {
   "cell_type": "code",
   "id": "initial_id",
   "metadata": {
    "collapsed": true,
    "ExecuteTime": {
     "end_time": "2024-12-10T01:27:53.088424Z",
     "start_time": "2024-12-10T01:27:52.314926Z"
    }
   },
   "source": [
    "from test import read_data\n",
    "\n",
    "alibaba_edges = read_data('alibaba')"
   ],
   "outputs": [],
   "execution_count": 5
  },
  {
   "metadata": {
    "ExecuteTime": {
     "end_time": "2024-12-10T00:34:24.510480Z",
     "start_time": "2024-12-10T00:34:24.503420Z"
    }
   },
   "cell_type": "code",
   "source": [
    "import bisect\n",
    "\n",
    "class TemporalNode:\n",
    "    def __init__(self):\n",
    "        self.edges = []\n",
    "        \n",
    "    def add_edge(self, node, t):\n",
    "        self.edges.append((node, t))\n",
    "        \n",
    "    def sort_edges(self):\n",
    "        self.edges.sort(key=lambda x: x[1])\n",
    "        \n",
    "    def get_edges_greater_than_time(self, t):\n",
    "        class TimestampKey:\n",
    "            def __init__(self, time):\n",
    "                self.time = time\n",
    "\n",
    "            def __lt__(self, other):\n",
    "                return self.time < other[1]\n",
    "            \n",
    "        index = bisect.bisect_right(self.edges, TimestampKey(t))\n",
    "        return self.edges[index:]\n",
    "            \n",
    "\n",
    "class TemporalGraph:\n",
    "    def __init__(self):\n",
    "        self.nodes = {}\n",
    "        \n",
    "    def add_edge(self, u, i, t):\n",
    "        if u not in self.nodes:\n",
    "            self.nodes[u] = TemporalNode()    \n",
    "        u_node = self.nodes[u]\n",
    "        \n",
    "        if i not in self.nodes:\n",
    "            self.nodes[i] = TemporalNode()\n",
    "        i_node = self.nodes[i]\n",
    "        \n",
    "        u_node.add_edge(i_node, t)\n",
    "        \n",
    "    def sort_edges(self):\n",
    "        for node in self.nodes.values():\n",
    "            node.sort_edges()\n",
    "            \n",
    "    def get_nodes(self):\n",
    "        return list(self.nodes.values())\n",
    "            \n",
    "            \n",
    "def get_all_temporal_paths(temporal_graph):\n",
    "    def dfs(current_node, current_time, path, all_paths):\n",
    "        edges = current_node.get_edges_greater_than_time(current_time)\n",
    "        \n",
    "        if not edges:\n",
    "            all_paths.append(path)\n",
    "            return\n",
    "        \n",
    "        for next_node, next_time in edges:\n",
    "            new_path = path + [(next_node, next_time)]\n",
    "            dfs(next_node, next_time, new_path, all_paths)\n",
    "    \n",
    "    all_paths = []\n",
    "    \n",
    "    for node in temporal_graph.get_nodes():\n",
    "        dfs(node, -float('inf'), [], all_paths)\n",
    "        print(f'Got paths for node {node}')\n",
    "    \n",
    "    return all_paths"
   ],
   "id": "e0e50100ae22c0dd",
   "outputs": [],
   "execution_count": 31
  },
  {
   "metadata": {
    "ExecuteTime": {
     "end_time": "2024-12-10T01:27:56.101595Z",
     "start_time": "2024-12-10T01:27:56.093065Z"
    }
   },
   "cell_type": "code",
   "source": [
    "import numpy as np\n",
    "\n",
    "class TemporalNode:\n",
    "    def __init__(self):\n",
    "        # Use a list to store node connections and timestamps to reduce appending cost\n",
    "        self.nodes = []  # Array of node IDs (connected nodes)\n",
    "        self.timestamps = []  # Array of timestamps for each edge\n",
    "        \n",
    "    def add_edge(self, node_id, timestamp):\n",
    "        # Append the new node ID and timestamp directly to the lists\n",
    "        self.nodes.append(node_id)\n",
    "        self.timestamps.append(timestamp)\n",
    "        \n",
    "    def sort_edges(self):\n",
    "        # Convert lists to numpy arrays only when sorting\n",
    "        self.nodes = np.array(self.nodes, dtype=int)\n",
    "        self.timestamps = np.array(self.timestamps, dtype=int)\n",
    "        \n",
    "        # Sort the edges based on timestamps\n",
    "        sorted_indices = np.argsort(self.timestamps)\n",
    "        self.nodes = self.nodes[sorted_indices]\n",
    "        self.timestamps = self.timestamps[sorted_indices]\n",
    "        \n",
    "    def get_edges_greater_than_time(self, t):\n",
    "        # Return edges where the timestamp is greater than t using NumPy vectorized operations\n",
    "        mask = np.array(self.timestamps) > t\n",
    "        return self.nodes[mask], np.array(self.timestamps)[mask]\n",
    "            \n",
    "\n",
    "class TemporalGraph:\n",
    "    def __init__(self):\n",
    "        self.nodes = {}\n",
    "        \n",
    "    def add_edge(self, u, i, t):\n",
    "        # Only create a new TemporalNode if it doesn't exist\n",
    "        if u not in self.nodes:\n",
    "            self.nodes[u] = TemporalNode()\n",
    "        u_node = self.nodes[u]\n",
    "        \n",
    "        if i not in self.nodes:\n",
    "            self.nodes[i] = TemporalNode()\n",
    "        i_node = self.nodes[i]\n",
    "        \n",
    "        # Add the edge to both nodes (directed edges in the temporal graph)\n",
    "        u_node.add_edge(i, t)\n",
    "        i_node.add_edge(u, t)  # Add the reverse edge as well for undirected behavior (if required)\n",
    "        \n",
    "    def sort_edges(self):\n",
    "        # Sort edges for all nodes\n",
    "        for node in self.nodes.values():\n",
    "            node.sort_edges()\n",
    "            \n",
    "    def get_nodes(self):\n",
    "        return list(self.nodes.values())\n",
    "            \n",
    "\n",
    "def get_all_temporal_paths(temporal_graph, max_path_len=None):\n",
    "    def dfs(current_node_id, current_time, path, all_paths, max_len):\n",
    "        # Retrieve the TemporalNode for current_node_id\n",
    "        current_node = temporal_graph.nodes[current_node_id]\n",
    "        \n",
    "        # Get edges greater than current_time using vectorized NumPy operations\n",
    "        next_nodes, next_times = current_node.get_edges_greater_than_time(current_time)\n",
    "        \n",
    "        if len(next_nodes) == 0 or (max_path_len and len(path) >= max_len):\n",
    "            # If no next nodes or maximum path length reached, append the path\n",
    "            all_paths.append(path[:])  # Append a copy of the path when a leaf is reached\n",
    "            return\n",
    "        \n",
    "        # Traverse the edges\n",
    "        for next_node, next_time in zip(next_nodes, next_times):\n",
    "            path.append((next_node, next_time))\n",
    "            dfs(next_node, next_time, path, all_paths, max_len)\n",
    "            path.pop()\n",
    "    \n",
    "    all_paths = []\n",
    "    \n",
    "    for node_id in temporal_graph.nodes:\n",
    "        dfs(node_id, -float('inf'), [], all_paths, max_path_len)\n",
    "        print(f'Got paths for node {node_id}')\n",
    "    \n",
    "    return all_paths"
   ],
   "id": "7759cb047ad28675",
   "outputs": [],
   "execution_count": 6
  },
  {
   "metadata": {
    "ExecuteTime": {
     "end_time": "2024-12-10T01:28:00.228581Z",
     "start_time": "2024-12-10T01:28:00.221363Z"
    }
   },
   "cell_type": "code",
   "source": [
    "import numpy as np\n",
    "\n",
    "class TemporalGraph:\n",
    "    def __init__(self):\n",
    "        # We will store nodes, edges, and timestamps as arrays\n",
    "        self.nodes = []  # List of node IDs\n",
    "        self.edges = []  # List of edges (pairs of node IDs)\n",
    "        self.timestamps = []  # List of timestamps corresponding to edges\n",
    "    \n",
    "    def add_edge(self, u, i, t):\n",
    "        # Append the edge and its timestamp to the lists\n",
    "        self.nodes.append(u)\n",
    "        self.nodes.append(i)\n",
    "        self.edges.append((u, i))\n",
    "        self.timestamps.append(t)\n",
    "        \n",
    "    def sort_edges(self):\n",
    "        # Convert lists to NumPy arrays for efficient operations\n",
    "        nodes = np.array(self.nodes)\n",
    "        edges = np.array(self.edges)\n",
    "        timestamps = np.array(self.timestamps)\n",
    "        \n",
    "        # Sort by timestamps\n",
    "        sorted_indices = np.argsort(timestamps)\n",
    "        \n",
    "        # Reorder the edges and timestamps\n",
    "        self.nodes = nodes[sorted_indices]\n",
    "        self.edges = edges[sorted_indices]\n",
    "        self.timestamps = timestamps[sorted_indices]\n",
    "    \n",
    "    def get_edges_for_node(self, node_id):\n",
    "        # Return the indices of the edges that originate from node_id\n",
    "        mask = self.nodes == node_id\n",
    "        return self.edges[mask], self.timestamps[mask]\n",
    "\n",
    "    def get_all_nodes(self):\n",
    "        # Get unique nodes\n",
    "        return np.unique(self.nodes)\n",
    "\n",
    "def get_all_temporal_paths(temporal_graph, max_path_len=None):\n",
    "    def dfs(current_node, current_time, path, all_paths, max_len):\n",
    "        # Get edges for the current node that have a timestamp greater than current_time\n",
    "        edges, timestamps = temporal_graph.get_edges_for_node(current_node)\n",
    "        \n",
    "        # Filter out the edges with timestamps less than or equal to current_time\n",
    "        valid_edges = edges[timestamps > current_time]\n",
    "        valid_timestamps = timestamps[timestamps > current_time]\n",
    "        \n",
    "        if len(valid_edges) == 0 or (max_path_len and len(path) >= max_len):\n",
    "            # If no valid edges or maximum path length reached, append the path\n",
    "            all_paths.append(path[:])  # Append a copy of the path when a leaf is reached\n",
    "            return\n",
    "        \n",
    "        # Traverse the edges\n",
    "        for (next_node, _), next_time in zip(valid_edges, valid_timestamps):\n",
    "            path.append((next_node, next_time))\n",
    "            dfs(next_node, next_time, path, all_paths, max_len)\n",
    "            path.pop()\n",
    "    \n",
    "    all_paths = []\n",
    "    \n",
    "    # Get all unique nodes and perform DFS for each\n",
    "    for node_id in temporal_graph.get_all_nodes():\n",
    "        print(f'Getting paths for node {node_id}')\n",
    "        dfs(node_id, -float('inf'), [], all_paths, max_path_len)\n",
    "        print(f'Got paths for node {node_id}')\n",
    "    \n",
    "    return all_paths"
   ],
   "id": "3ddc58bd0e24054d",
   "outputs": [],
   "execution_count": 7
  },
  {
   "metadata": {
    "ExecuteTime": {
     "end_time": "2024-12-10T01:28:04.144227Z",
     "start_time": "2024-12-10T01:28:02.779216Z"
    }
   },
   "cell_type": "code",
   "source": [
    "temporal_graph = TemporalGraph()\n",
    "for u, i, t in alibaba_edges:\n",
    "    temporal_graph.add_edge(u, i, t)\n",
    "    \n",
    "print('Sorting edges')\n",
    "temporal_graph.sort_edges()"
   ],
   "id": "ab8099e1afcb2b8e",
   "outputs": [
    {
     "name": "stdout",
     "output_type": "stream",
     "text": [
      "Sorting edges\n"
     ]
    }
   ],
   "execution_count": 8
  },
  {
   "metadata": {
    "jupyter": {
     "is_executing": true
    },
    "ExecuteTime": {
     "end_time": "2024-12-10T01:37:30.251228Z",
     "start_time": "2024-12-10T01:28:04.564306Z"
    }
   },
   "cell_type": "code",
   "source": "all_paths = get_all_temporal_paths(temporal_graph, 100)",
   "id": "60b76f3d914c8859",
   "outputs": [
    {
     "name": "stdout",
     "output_type": "stream",
     "text": [
      "Getting paths for node 10\n"
     ]
    }
   ],
   "execution_count": null
  },
  {
   "metadata": {
    "ExecuteTime": {
     "end_time": "2024-12-09T22:13:00.958646Z",
     "start_time": "2024-12-09T22:13:00.955375Z"
    }
   },
   "cell_type": "code",
   "source": [
    "from temporal_walk import TemporalWalk\n",
    "\n",
    "temporal_walk = TemporalWalk(\n",
    "    num_walks=100_000,\n",
    "    len_walk=50,\n",
    "    picker_type='Linear',\n",
    "    max_time_capacity=None\n",
    ")"
   ],
   "id": "142b63a558e201a1",
   "outputs": [],
   "execution_count": 2
  },
  {
   "metadata": {
    "ExecuteTime": {
     "end_time": "2024-12-09T22:13:21.024165Z",
     "start_time": "2024-12-09T22:13:07.569362Z"
    }
   },
   "cell_type": "code",
   "source": "temporal_walk.add_multiple_edges(edges)",
   "id": "c0b78e550ae931dd",
   "outputs": [],
   "execution_count": 3
  },
  {
   "metadata": {
    "ExecuteTime": {
     "end_time": "2024-12-09T22:19:07.507082Z",
     "start_time": "2024-12-09T22:19:01.669995Z"
    }
   },
   "cell_type": "code",
   "source": "nx_graph = temporal_walk.to_networkx()",
   "id": "530d393629821453",
   "outputs": [],
   "execution_count": 4
  },
  {
   "metadata": {},
   "cell_type": "code",
   "outputs": [],
   "execution_count": null,
   "source": "",
   "id": "b0da47966a05cd17"
  }
 ],
 "metadata": {
  "kernelspec": {
   "display_name": "Python 3",
   "language": "python",
   "name": "python3"
  },
  "language_info": {
   "codemirror_mode": {
    "name": "ipython",
    "version": 2
   },
   "file_extension": ".py",
   "mimetype": "text/x-python",
   "name": "python",
   "nbconvert_exporter": "python",
   "pygments_lexer": "ipython2",
   "version": "2.7.6"
  }
 },
 "nbformat": 4,
 "nbformat_minor": 5
}
