{
 "cells": [
  {
   "cell_type": "code",
   "id": "initial_id",
   "metadata": {
    "collapsed": true,
    "ExecuteTime": {
     "end_time": "2024-11-29T00:42:32.975442Z",
     "start_time": "2024-11-29T00:42:32.971887Z"
    }
   },
   "source": [
    "import numpy as np\n",
    "from temporal_walk import TemporalWalk"
   ],
   "outputs": [],
   "execution_count": 1
  },
  {
   "metadata": {},
   "cell_type": "markdown",
   "source": "## Open ended random walks",
   "id": "89f66b10fcb744ca"
  },
  {
   "metadata": {
    "ExecuteTime": {
     "end_time": "2024-11-29T00:42:33.200310Z",
     "start_time": "2024-11-29T00:42:33.198343Z"
    }
   },
   "cell_type": "code",
   "source": [
    "temporal_walk = TemporalWalk(\n",
    "    num_walks=1_000_000,\n",
    "    len_walk=100,\n",
    "    picker_type='Uniform',\n",
    "    max_time_capacity=None\n",
    ")"
   ],
   "id": "66b8bb0794c6d5cd",
   "outputs": [],
   "execution_count": 2
  },
  {
   "metadata": {
    "ExecuteTime": {
     "end_time": "2024-11-29T00:42:34.124112Z",
     "start_time": "2024-11-29T00:42:33.936340Z"
    }
   },
   "cell_type": "code",
   "source": [
    "from test import read_data\n",
    "\n",
    "edges_data = read_data('reddit')"
   ],
   "id": "8a0d6c151e8dc58b",
   "outputs": [],
   "execution_count": 3
  },
  {
   "metadata": {
    "ExecuteTime": {
     "end_time": "2024-11-29T00:42:36.118109Z",
     "start_time": "2024-11-29T00:42:34.570206Z"
    }
   },
   "cell_type": "code",
   "source": "temporal_walk.add_multiple_edges(edges_data)",
   "id": "af8f54a06d866004",
   "outputs": [],
   "execution_count": 4
  },
  {
   "metadata": {
    "ExecuteTime": {
     "end_time": "2024-11-29T00:42:42.882288Z",
     "start_time": "2024-11-29T00:42:36.121184Z"
    }
   },
   "cell_type": "code",
   "source": "walks = temporal_walk.get_random_walks()",
   "id": "c97930d7111931c3",
   "outputs": [],
   "execution_count": 5
  },
  {
   "metadata": {
    "ExecuteTime": {
     "end_time": "2024-11-29T00:42:42.892790Z",
     "start_time": "2024-11-29T00:42:42.889660Z"
    }
   },
   "cell_type": "code",
   "source": "len(walks)",
   "id": "a5e48af988f04950",
   "outputs": [
    {
     "data": {
      "text/plain": [
       "1000000"
      ]
     },
     "execution_count": 6,
     "metadata": {},
     "output_type": "execute_result"
    }
   ],
   "execution_count": 6
  },
  {
   "metadata": {
    "ExecuteTime": {
     "end_time": "2024-11-29T00:43:50.738630Z",
     "start_time": "2024-11-29T00:42:42.899698Z"
    }
   },
   "cell_type": "code",
   "source": [
    "trimmed_walks = []\n",
    "\n",
    "for walk in walks:\n",
    "    trimmed_walks.append(np.trim_zeros(walk, 'b'))"
   ],
   "id": "65e5604f44fa1a16",
   "outputs": [],
   "execution_count": 7
  },
  {
   "metadata": {
    "ExecuteTime": {
     "end_time": "2024-11-29T00:43:50.746442Z",
     "start_time": "2024-11-29T00:43:50.744286Z"
    }
   },
   "cell_type": "code",
   "source": [
    "from gensim.models import Word2Vec\n",
    "\n",
    "word2vec_model = Word2Vec(\n",
    "    vector_size=128, \n",
    "    epochs=10, window=10, \n",
    "    min_count=1, \n",
    "    sg=1, \n",
    "    workers=10\n",
    ")"
   ],
   "id": "fcbf3e93bba8b667",
   "outputs": [],
   "execution_count": 8
  },
  {
   "metadata": {
    "ExecuteTime": {
     "end_time": "2024-11-29T00:43:52.498842Z",
     "start_time": "2024-11-29T00:43:50.751916Z"
    }
   },
   "cell_type": "code",
   "source": "word2vec_model.build_vocab([[str(node) for node in walk] for walk in trimmed_walks])",
   "id": "77f854063d34cb7",
   "outputs": [],
   "execution_count": 9
  },
  {
   "metadata": {
    "ExecuteTime": {
     "end_time": "2024-11-29T00:44:04.141878Z",
     "start_time": "2024-11-29T00:43:52.505623Z"
    }
   },
   "cell_type": "code",
   "source": [
    "string_walks = [[str(node) for node in walk] for walk in trimmed_walks]\n",
    "word2vec_model.train(string_walks, total_examples=len(trimmed_walks), epochs=10)"
   ],
   "id": "c60056e5a2717e8e",
   "outputs": [
    {
     "data": {
      "text/plain": [
       "(27697668, 28486720)"
      ]
     },
     "execution_count": 10,
     "metadata": {},
     "output_type": "execute_result"
    }
   ],
   "execution_count": 10
  },
  {
   "metadata": {
    "ExecuteTime": {
     "end_time": "2024-11-29T00:44:04.212945Z",
     "start_time": "2024-11-29T00:44:04.210472Z"
    }
   },
   "cell_type": "code",
   "source": "len(word2vec_model.wv)",
   "id": "926a7795103f520a",
   "outputs": [
    {
     "data": {
      "text/plain": [
       "27777"
      ]
     },
     "execution_count": 11,
     "metadata": {},
     "output_type": "execute_result"
    }
   ],
   "execution_count": 11
  },
  {
   "metadata": {
    "ExecuteTime": {
     "end_time": "2024-11-29T00:44:04.323684Z",
     "start_time": "2024-11-29T00:44:04.281351Z"
    }
   },
   "cell_type": "code",
   "source": [
    "node_set = set()\n",
    "\n",
    "for (u, i, t) in edges_data:\n",
    "    node_set.add(u)\n",
    "    node_set.add(i)"
   ],
   "id": "8f0abd1582399344",
   "outputs": [],
   "execution_count": 12
  },
  {
   "metadata": {
    "ExecuteTime": {
     "end_time": "2024-11-29T00:44:04.332189Z",
     "start_time": "2024-11-29T00:44:04.330148Z"
    }
   },
   "cell_type": "code",
   "source": "len(node_set)",
   "id": "f9d9db6342517d3b",
   "outputs": [
    {
     "data": {
      "text/plain": [
       "27863"
      ]
     },
     "execution_count": 13,
     "metadata": {},
     "output_type": "execute_result"
    }
   ],
   "execution_count": 13
  },
  {
   "metadata": {},
   "cell_type": "markdown",
   "source": "## Walks for specific unique nodes",
   "id": "a04fa5ffbfad8615"
  },
  {
   "metadata": {
    "ExecuteTime": {
     "end_time": "2024-11-29T00:44:04.657701Z",
     "start_time": "2024-11-29T00:44:04.338673Z"
    }
   },
   "cell_type": "code",
   "source": [
    "temporal_walk = TemporalWalk(\n",
    "    num_walks=50,\n",
    "    len_walk=100,\n",
    "    picker_type='Uniform',\n",
    "    max_time_capacity=None\n",
    ")"
   ],
   "id": "754803684be5b061",
   "outputs": [],
   "execution_count": 14
  },
  {
   "metadata": {
    "ExecuteTime": {
     "end_time": "2024-11-29T00:44:06.233543Z",
     "start_time": "2024-11-29T00:44:04.664147Z"
    }
   },
   "cell_type": "code",
   "source": "temporal_walk.add_multiple_edges(edges_data)",
   "id": "881fecd30c31580c",
   "outputs": [],
   "execution_count": 15
  },
  {
   "metadata": {
    "ExecuteTime": {
     "end_time": "2024-11-29T00:44:16.424617Z",
     "start_time": "2024-11-29T00:44:06.240643Z"
    }
   },
   "cell_type": "code",
   "source": "walks_for_nodes = temporal_walk.get_random_walks_for_nodes('Random', temporal_walk.get_node_ids())",
   "id": "5a859d06e7eaea35",
   "outputs": [],
   "execution_count": 16
  },
  {
   "metadata": {
    "ExecuteTime": {
     "end_time": "2024-11-29T00:45:51.372223Z",
     "start_time": "2024-11-29T00:44:16.434906Z"
    }
   },
   "cell_type": "code",
   "source": [
    "trimmed_walks = []\n",
    "\n",
    "for node, walks in walks_for_nodes.items():\n",
    "    for walk in walks:\n",
    "        trimmed_walks.append(np.trim_zeros(walk, 'b'))"
   ],
   "id": "be48789a040cd705",
   "outputs": [],
   "execution_count": 17
  },
  {
   "metadata": {
    "ExecuteTime": {
     "end_time": "2024-11-29T00:45:51.388200Z",
     "start_time": "2024-11-29T00:45:51.385104Z"
    }
   },
   "cell_type": "code",
   "source": [
    "from gensim.models import Word2Vec\n",
    "\n",
    "word2vec_model = Word2Vec(\n",
    "    vector_size=128, \n",
    "    epochs=10, \n",
    "    window=10, \n",
    "    min_count=1, \n",
    "    sg=1, \n",
    "    workers=10\n",
    ")"
   ],
   "id": "43a66c4160855b26",
   "outputs": [],
   "execution_count": 18
  },
  {
   "metadata": {
    "ExecuteTime": {
     "end_time": "2024-11-29T00:45:53.535706Z",
     "start_time": "2024-11-29T00:45:51.398923Z"
    }
   },
   "cell_type": "code",
   "source": "word2vec_model.build_vocab([[str(node) for node in walk] for walk in trimmed_walks])",
   "id": "fd83aabe800603e3",
   "outputs": [],
   "execution_count": 19
  },
  {
   "metadata": {
    "ExecuteTime": {
     "end_time": "2024-11-29T00:46:07.947753Z",
     "start_time": "2024-11-29T00:45:53.546398Z"
    }
   },
   "cell_type": "code",
   "source": [
    "string_walks = [[str(node) for node in walk] for walk in trimmed_walks]\n",
    "word2vec_model.train(string_walks, total_examples=len(trimmed_walks), epochs=10)"
   ],
   "id": "215db5ac0ea40838",
   "outputs": [
    {
     "data": {
      "text/plain": [
       "(36303523, 36759830)"
      ]
     },
     "execution_count": 20,
     "metadata": {},
     "output_type": "execute_result"
    }
   ],
   "execution_count": 20
  },
  {
   "metadata": {
    "ExecuteTime": {
     "end_time": "2024-11-29T00:46:07.959996Z",
     "start_time": "2024-11-29T00:46:07.957897Z"
    }
   },
   "cell_type": "code",
   "source": "len(word2vec_model.wv)",
   "id": "ea01e77c85056a47",
   "outputs": [
    {
     "data": {
      "text/plain": [
       "27863"
      ]
     },
     "execution_count": 21,
     "metadata": {},
     "output_type": "execute_result"
    }
   ],
   "execution_count": 21
  },
  {
   "metadata": {
    "ExecuteTime": {
     "end_time": "2024-11-29T00:46:07.972430Z",
     "start_time": "2024-11-29T00:46:07.970274Z"
    }
   },
   "cell_type": "code",
   "source": "len(node_set)",
   "id": "db31b36810f9d34c",
   "outputs": [
    {
     "data": {
      "text/plain": [
       "27863"
      ]
     },
     "execution_count": 22,
     "metadata": {},
     "output_type": "execute_result"
    }
   ],
   "execution_count": 22
  },
  {
   "metadata": {},
   "cell_type": "code",
   "outputs": [],
   "execution_count": null,
   "source": "",
   "id": "99391acbfe63f24"
  }
 ],
 "metadata": {
  "kernelspec": {
   "display_name": "Python 3",
   "language": "python",
   "name": "python3"
  },
  "language_info": {
   "codemirror_mode": {
    "name": "ipython",
    "version": 2
   },
   "file_extension": ".py",
   "mimetype": "text/x-python",
   "name": "python",
   "nbconvert_exporter": "python",
   "pygments_lexer": "ipython2",
   "version": "2.7.6"
  }
 },
 "nbformat": 4,
 "nbformat_minor": 5
}
