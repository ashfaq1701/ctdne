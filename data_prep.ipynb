{
 "cells": [
  {
   "cell_type": "code",
   "id": "initial_id",
   "metadata": {
    "collapsed": true,
    "ExecuteTime": {
     "end_time": "2024-12-10T20:53:17.923822Z",
     "start_time": "2024-12-10T20:53:17.922236Z"
    }
   },
   "source": "import pandas as pd",
   "outputs": [],
   "execution_count": 1
  },
  {
   "metadata": {
    "ExecuteTime": {
     "end_time": "2024-12-10T20:54:12.896575Z",
     "start_time": "2024-12-10T20:53:17.925673Z"
    }
   },
   "cell_type": "code",
   "source": [
    "dfs = []\n",
    "\n",
    "for i in range(15, 20):\n",
    "    dfs.append(pd.read_csv('/Users/ashfaq/Documents/CallGraph_15.csv', on_bad_lines='skip'))\n",
    "    \n",
    "combined_df = pd.concat(dfs, axis=0)"
   ],
   "id": "33c03621c06fe262",
   "outputs": [],
   "execution_count": 2
  },
  {
   "metadata": {
    "ExecuteTime": {
     "end_time": "2024-12-10T21:40:07.755249Z",
     "start_time": "2024-12-10T21:40:07.736998Z"
    }
   },
   "cell_type": "code",
   "source": "combined_df",
   "id": "9ded2d64458bcc17",
   "outputs": [
    {
     "data": {
      "text/plain": [
       "          timestamp        traceid      service              rpc_id rpctype  \\\n",
       "0           2762003  T_17215484994   S_24282040                   0    http   \n",
       "1           2746700   T_5609107797   S_12773374               0.1.1    http   \n",
       "2           2843715   T_5609095082  S_104419129            0.1.2.14      mc   \n",
       "3           2843715   T_5609095082  S_104419129            0.1.2.18      mc   \n",
       "4           2843714   T_5609095082  S_104419129            0.1.2.12      mc   \n",
       "...             ...            ...          ...                 ...     ...   \n",
       "13553602    2788556  T_19740776011  S_101513166                 0.1    http   \n",
       "13553603    2754468  T_19740773958  S_134358585               0.1.1    http   \n",
       "13553604    2808606  T_19740760899   S_20083159                 0.1     rpc   \n",
       "13553605    2808606  T_19740760899   S_20083159                 0.1     rpc   \n",
       "13553606    2808656  T_19740760899   S_20083159  0.5.1.3350132160.1      mc   \n",
       "\n",
       "                um      uminstanceid   interface        dm      dminstanceid  \\\n",
       "0             USER              USER  yyeYb2GjKb  MS_41385  MS_41385_POD_778   \n",
       "1          UNKNOWN       UNAVAILABLE  5cajw6w4ly  MS_41766  MS_41766_POD_127   \n",
       "2          MS_4660  MS_4660_POD_3206  0REcWWf5yJ  MS_46825  MS_46825_POD_525   \n",
       "3          MS_4660  MS_4660_POD_3206  27LLHBLtvK  MS_46825  MS_46825_POD_525   \n",
       "4          MS_4660  MS_4660_POD_3206  0REcWWf5yJ  MS_46825  MS_46825_POD_472   \n",
       "...            ...               ...         ...       ...               ...   \n",
       "13553602   UNKNOWN       UNAVAILABLE  BJXRcwDPgy  MS_67915  MS_67915_POD_344   \n",
       "13553603   UNKNOWN       UNAVAILABLE  s1PXNG3RqB  MS_17720   MS_17720_POD_28   \n",
       "13553604   MS_2842    MS_2842_POD_88  wKKLh3fJyE  MS_49817   MS_49817_POD_73   \n",
       "13553605   MS_2842    MS_2842_POD_88  wKKLh3fJyE  MS_49817   MS_49817_POD_73   \n",
       "13553606  MS_69708  MS_69708_POD_287  syokE4MjX6  MS_28617  MS_28617_POD_243   \n",
       "\n",
       "            rt  \n",
       "0         22.0  \n",
       "1          1.0  \n",
       "2          0.0  \n",
       "3          0.0  \n",
       "4          1.0  \n",
       "...        ...  \n",
       "13553602   2.0  \n",
       "13553603   0.0  \n",
       "13553604   2.0  \n",
       "13553605   1.0  \n",
       "13553606   1.0  \n",
       "\n",
       "[67768035 rows x 11 columns]"
      ],
      "text/html": [
       "<div>\n",
       "<style scoped>\n",
       "    .dataframe tbody tr th:only-of-type {\n",
       "        vertical-align: middle;\n",
       "    }\n",
       "\n",
       "    .dataframe tbody tr th {\n",
       "        vertical-align: top;\n",
       "    }\n",
       "\n",
       "    .dataframe thead th {\n",
       "        text-align: right;\n",
       "    }\n",
       "</style>\n",
       "<table border=\"1\" class=\"dataframe\">\n",
       "  <thead>\n",
       "    <tr style=\"text-align: right;\">\n",
       "      <th></th>\n",
       "      <th>timestamp</th>\n",
       "      <th>traceid</th>\n",
       "      <th>service</th>\n",
       "      <th>rpc_id</th>\n",
       "      <th>rpctype</th>\n",
       "      <th>um</th>\n",
       "      <th>uminstanceid</th>\n",
       "      <th>interface</th>\n",
       "      <th>dm</th>\n",
       "      <th>dminstanceid</th>\n",
       "      <th>rt</th>\n",
       "    </tr>\n",
       "  </thead>\n",
       "  <tbody>\n",
       "    <tr>\n",
       "      <th>0</th>\n",
       "      <td>2762003</td>\n",
       "      <td>T_17215484994</td>\n",
       "      <td>S_24282040</td>\n",
       "      <td>0</td>\n",
       "      <td>http</td>\n",
       "      <td>USER</td>\n",
       "      <td>USER</td>\n",
       "      <td>yyeYb2GjKb</td>\n",
       "      <td>MS_41385</td>\n",
       "      <td>MS_41385_POD_778</td>\n",
       "      <td>22.0</td>\n",
       "    </tr>\n",
       "    <tr>\n",
       "      <th>1</th>\n",
       "      <td>2746700</td>\n",
       "      <td>T_5609107797</td>\n",
       "      <td>S_12773374</td>\n",
       "      <td>0.1.1</td>\n",
       "      <td>http</td>\n",
       "      <td>UNKNOWN</td>\n",
       "      <td>UNAVAILABLE</td>\n",
       "      <td>5cajw6w4ly</td>\n",
       "      <td>MS_41766</td>\n",
       "      <td>MS_41766_POD_127</td>\n",
       "      <td>1.0</td>\n",
       "    </tr>\n",
       "    <tr>\n",
       "      <th>2</th>\n",
       "      <td>2843715</td>\n",
       "      <td>T_5609095082</td>\n",
       "      <td>S_104419129</td>\n",
       "      <td>0.1.2.14</td>\n",
       "      <td>mc</td>\n",
       "      <td>MS_4660</td>\n",
       "      <td>MS_4660_POD_3206</td>\n",
       "      <td>0REcWWf5yJ</td>\n",
       "      <td>MS_46825</td>\n",
       "      <td>MS_46825_POD_525</td>\n",
       "      <td>0.0</td>\n",
       "    </tr>\n",
       "    <tr>\n",
       "      <th>3</th>\n",
       "      <td>2843715</td>\n",
       "      <td>T_5609095082</td>\n",
       "      <td>S_104419129</td>\n",
       "      <td>0.1.2.18</td>\n",
       "      <td>mc</td>\n",
       "      <td>MS_4660</td>\n",
       "      <td>MS_4660_POD_3206</td>\n",
       "      <td>27LLHBLtvK</td>\n",
       "      <td>MS_46825</td>\n",
       "      <td>MS_46825_POD_525</td>\n",
       "      <td>0.0</td>\n",
       "    </tr>\n",
       "    <tr>\n",
       "      <th>4</th>\n",
       "      <td>2843714</td>\n",
       "      <td>T_5609095082</td>\n",
       "      <td>S_104419129</td>\n",
       "      <td>0.1.2.12</td>\n",
       "      <td>mc</td>\n",
       "      <td>MS_4660</td>\n",
       "      <td>MS_4660_POD_3206</td>\n",
       "      <td>0REcWWf5yJ</td>\n",
       "      <td>MS_46825</td>\n",
       "      <td>MS_46825_POD_472</td>\n",
       "      <td>1.0</td>\n",
       "    </tr>\n",
       "    <tr>\n",
       "      <th>...</th>\n",
       "      <td>...</td>\n",
       "      <td>...</td>\n",
       "      <td>...</td>\n",
       "      <td>...</td>\n",
       "      <td>...</td>\n",
       "      <td>...</td>\n",
       "      <td>...</td>\n",
       "      <td>...</td>\n",
       "      <td>...</td>\n",
       "      <td>...</td>\n",
       "      <td>...</td>\n",
       "    </tr>\n",
       "    <tr>\n",
       "      <th>13553602</th>\n",
       "      <td>2788556</td>\n",
       "      <td>T_19740776011</td>\n",
       "      <td>S_101513166</td>\n",
       "      <td>0.1</td>\n",
       "      <td>http</td>\n",
       "      <td>UNKNOWN</td>\n",
       "      <td>UNAVAILABLE</td>\n",
       "      <td>BJXRcwDPgy</td>\n",
       "      <td>MS_67915</td>\n",
       "      <td>MS_67915_POD_344</td>\n",
       "      <td>2.0</td>\n",
       "    </tr>\n",
       "    <tr>\n",
       "      <th>13553603</th>\n",
       "      <td>2754468</td>\n",
       "      <td>T_19740773958</td>\n",
       "      <td>S_134358585</td>\n",
       "      <td>0.1.1</td>\n",
       "      <td>http</td>\n",
       "      <td>UNKNOWN</td>\n",
       "      <td>UNAVAILABLE</td>\n",
       "      <td>s1PXNG3RqB</td>\n",
       "      <td>MS_17720</td>\n",
       "      <td>MS_17720_POD_28</td>\n",
       "      <td>0.0</td>\n",
       "    </tr>\n",
       "    <tr>\n",
       "      <th>13553604</th>\n",
       "      <td>2808606</td>\n",
       "      <td>T_19740760899</td>\n",
       "      <td>S_20083159</td>\n",
       "      <td>0.1</td>\n",
       "      <td>rpc</td>\n",
       "      <td>MS_2842</td>\n",
       "      <td>MS_2842_POD_88</td>\n",
       "      <td>wKKLh3fJyE</td>\n",
       "      <td>MS_49817</td>\n",
       "      <td>MS_49817_POD_73</td>\n",
       "      <td>2.0</td>\n",
       "    </tr>\n",
       "    <tr>\n",
       "      <th>13553605</th>\n",
       "      <td>2808606</td>\n",
       "      <td>T_19740760899</td>\n",
       "      <td>S_20083159</td>\n",
       "      <td>0.1</td>\n",
       "      <td>rpc</td>\n",
       "      <td>MS_2842</td>\n",
       "      <td>MS_2842_POD_88</td>\n",
       "      <td>wKKLh3fJyE</td>\n",
       "      <td>MS_49817</td>\n",
       "      <td>MS_49817_POD_73</td>\n",
       "      <td>1.0</td>\n",
       "    </tr>\n",
       "    <tr>\n",
       "      <th>13553606</th>\n",
       "      <td>2808656</td>\n",
       "      <td>T_19740760899</td>\n",
       "      <td>S_20083159</td>\n",
       "      <td>0.5.1.3350132160.1</td>\n",
       "      <td>mc</td>\n",
       "      <td>MS_69708</td>\n",
       "      <td>MS_69708_POD_287</td>\n",
       "      <td>syokE4MjX6</td>\n",
       "      <td>MS_28617</td>\n",
       "      <td>MS_28617_POD_243</td>\n",
       "      <td>1.0</td>\n",
       "    </tr>\n",
       "  </tbody>\n",
       "</table>\n",
       "<p>67768035 rows × 11 columns</p>\n",
       "</div>"
      ]
     },
     "execution_count": 11,
     "metadata": {},
     "output_type": "execute_result"
    }
   ],
   "execution_count": 11
  },
  {
   "metadata": {
    "ExecuteTime": {
     "end_time": "2024-12-10T20:54:28.560823Z",
     "start_time": "2024-12-10T20:54:13.006510Z"
    }
   },
   "cell_type": "code",
   "source": [
    "filtered_df = combined_df[(combined_df['um'] != 'UNKNOWN') & (combined_df['um'] != 'UNAVAILABLE') & \n",
    "                 (combined_df['dm'] != 'UNKNOWN') & (combined_df['dm'] != 'UNAVAILABLE')]"
   ],
   "id": "a749e8a50275efd7",
   "outputs": [],
   "execution_count": 3
  },
  {
   "metadata": {
    "ExecuteTime": {
     "end_time": "2024-12-10T20:54:30.237100Z",
     "start_time": "2024-12-10T20:54:28.565687Z"
    }
   },
   "cell_type": "code",
   "source": "df = filtered_df[['timestamp', 'traceid', 'rpc_id', 'um', 'dm']]",
   "id": "ce66f27f9b40a2e5",
   "outputs": [],
   "execution_count": 4
  },
  {
   "metadata": {
    "ExecuteTime": {
     "end_time": "2024-12-10T20:55:45.925365Z",
     "start_time": "2024-12-10T20:54:30.254501Z"
    }
   },
   "cell_type": "code",
   "source": "df['rpc_id_parts'] = df['rpc_id'].str.split('.').apply(lambda x: [int(part) for part in x])",
   "id": "73d73895b788e6ed",
   "outputs": [
    {
     "name": "stderr",
     "output_type": "stream",
     "text": [
      "/var/folders/4p/l36n5pc50sjbjc2ty8x_wsnw0000gn/T/ipykernel_54808/1447768535.py:1: SettingWithCopyWarning: \n",
      "A value is trying to be set on a copy of a slice from a DataFrame.\n",
      "Try using .loc[row_indexer,col_indexer] = value instead\n",
      "\n",
      "See the caveats in the documentation: https://pandas.pydata.org/pandas-docs/stable/user_guide/indexing.html#returning-a-view-versus-a-copy\n",
      "  df['rpc_id_parts'] = df['rpc_id'].str.split('.').apply(lambda x: [int(part) for part in x])\n"
     ]
    }
   ],
   "execution_count": 5
  },
  {
   "metadata": {
    "ExecuteTime": {
     "end_time": "2024-12-10T20:55:54.828635Z",
     "start_time": "2024-12-10T20:55:45.988962Z"
    }
   },
   "cell_type": "code",
   "source": [
    "from sklearn.preprocessing import LabelEncoder\n",
    "\n",
    "um_encoder = LabelEncoder()\n",
    "dm_encoder = LabelEncoder()\n",
    "\n",
    "df['um_encoded'] = um_encoder.fit_transform(df['um'])\n",
    "df['dm_encoded'] = um_encoder.fit_transform(df['dm'])"
   ],
   "id": "a2b299f2d2d23d1d",
   "outputs": [
    {
     "name": "stderr",
     "output_type": "stream",
     "text": [
      "/var/folders/4p/l36n5pc50sjbjc2ty8x_wsnw0000gn/T/ipykernel_54808/342505127.py:6: SettingWithCopyWarning: \n",
      "A value is trying to be set on a copy of a slice from a DataFrame.\n",
      "Try using .loc[row_indexer,col_indexer] = value instead\n",
      "\n",
      "See the caveats in the documentation: https://pandas.pydata.org/pandas-docs/stable/user_guide/indexing.html#returning-a-view-versus-a-copy\n",
      "  df['um_encoded'] = um_encoder.fit_transform(df['um'])\n",
      "/var/folders/4p/l36n5pc50sjbjc2ty8x_wsnw0000gn/T/ipykernel_54808/342505127.py:7: SettingWithCopyWarning: \n",
      "A value is trying to be set on a copy of a slice from a DataFrame.\n",
      "Try using .loc[row_indexer,col_indexer] = value instead\n",
      "\n",
      "See the caveats in the documentation: https://pandas.pydata.org/pandas-docs/stable/user_guide/indexing.html#returning-a-view-versus-a-copy\n",
      "  df['dm_encoded'] = um_encoder.fit_transform(df['dm'])\n"
     ]
    }
   ],
   "execution_count": 6
  },
  {
   "metadata": {
    "ExecuteTime": {
     "end_time": "2024-12-10T20:55:54.849658Z",
     "start_time": "2024-12-10T20:55:54.841751Z"
    }
   },
   "cell_type": "code",
   "source": "df",
   "id": "c48086ab773ba86d",
   "outputs": [
    {
     "data": {
      "text/plain": [
       "          timestamp        traceid              rpc_id        um        dm  \\\n",
       "0           2762003  T_17215484994                   0      USER  MS_41385   \n",
       "2           2843715   T_5609095082            0.1.2.14   MS_4660  MS_46825   \n",
       "3           2843715   T_5609095082            0.1.2.18   MS_4660  MS_46825   \n",
       "4           2843714   T_5609095082            0.1.2.12   MS_4660  MS_46825   \n",
       "5           2843716   T_5609095082          0.1.2.24.4   MS_4660  MS_55085   \n",
       "...             ...            ...                 ...       ...       ...   \n",
       "13553600    2807605  T_19740788637               0.1.1  MS_67915  MS_53745   \n",
       "13553601    2788556  T_19740776011               0.1.1  MS_67915  MS_29680   \n",
       "13553604    2808606  T_19740760899                 0.1   MS_2842  MS_49817   \n",
       "13553605    2808606  T_19740760899                 0.1   MS_2842  MS_49817   \n",
       "13553606    2808656  T_19740760899  0.5.1.3350132160.1  MS_69708  MS_28617   \n",
       "\n",
       "                      rpc_id_parts  um_encoded  dm_encoded  \n",
       "0                              [0]        9809        7193  \n",
       "2                    [0, 1, 2, 14]        5449        8436  \n",
       "3                    [0, 1, 2, 18]        5449        8436  \n",
       "4                    [0, 1, 2, 12]        5449        8436  \n",
       "5                 [0, 1, 2, 24, 4]        5449       10343  \n",
       "...                            ...         ...         ...  \n",
       "13553600                 [0, 1, 1]        8554       10047  \n",
       "13553601                 [0, 1, 1]        8554        4545  \n",
       "13553604                    [0, 1]        2779        9130  \n",
       "13553605                    [0, 1]        2779        9130  \n",
       "13553606  [0, 5, 1, 3350132160, 1]        8827        4310  \n",
       "\n",
       "[54120415 rows x 8 columns]"
      ],
      "text/html": [
       "<div>\n",
       "<style scoped>\n",
       "    .dataframe tbody tr th:only-of-type {\n",
       "        vertical-align: middle;\n",
       "    }\n",
       "\n",
       "    .dataframe tbody tr th {\n",
       "        vertical-align: top;\n",
       "    }\n",
       "\n",
       "    .dataframe thead th {\n",
       "        text-align: right;\n",
       "    }\n",
       "</style>\n",
       "<table border=\"1\" class=\"dataframe\">\n",
       "  <thead>\n",
       "    <tr style=\"text-align: right;\">\n",
       "      <th></th>\n",
       "      <th>timestamp</th>\n",
       "      <th>traceid</th>\n",
       "      <th>rpc_id</th>\n",
       "      <th>um</th>\n",
       "      <th>dm</th>\n",
       "      <th>rpc_id_parts</th>\n",
       "      <th>um_encoded</th>\n",
       "      <th>dm_encoded</th>\n",
       "    </tr>\n",
       "  </thead>\n",
       "  <tbody>\n",
       "    <tr>\n",
       "      <th>0</th>\n",
       "      <td>2762003</td>\n",
       "      <td>T_17215484994</td>\n",
       "      <td>0</td>\n",
       "      <td>USER</td>\n",
       "      <td>MS_41385</td>\n",
       "      <td>[0]</td>\n",
       "      <td>9809</td>\n",
       "      <td>7193</td>\n",
       "    </tr>\n",
       "    <tr>\n",
       "      <th>2</th>\n",
       "      <td>2843715</td>\n",
       "      <td>T_5609095082</td>\n",
       "      <td>0.1.2.14</td>\n",
       "      <td>MS_4660</td>\n",
       "      <td>MS_46825</td>\n",
       "      <td>[0, 1, 2, 14]</td>\n",
       "      <td>5449</td>\n",
       "      <td>8436</td>\n",
       "    </tr>\n",
       "    <tr>\n",
       "      <th>3</th>\n",
       "      <td>2843715</td>\n",
       "      <td>T_5609095082</td>\n",
       "      <td>0.1.2.18</td>\n",
       "      <td>MS_4660</td>\n",
       "      <td>MS_46825</td>\n",
       "      <td>[0, 1, 2, 18]</td>\n",
       "      <td>5449</td>\n",
       "      <td>8436</td>\n",
       "    </tr>\n",
       "    <tr>\n",
       "      <th>4</th>\n",
       "      <td>2843714</td>\n",
       "      <td>T_5609095082</td>\n",
       "      <td>0.1.2.12</td>\n",
       "      <td>MS_4660</td>\n",
       "      <td>MS_46825</td>\n",
       "      <td>[0, 1, 2, 12]</td>\n",
       "      <td>5449</td>\n",
       "      <td>8436</td>\n",
       "    </tr>\n",
       "    <tr>\n",
       "      <th>5</th>\n",
       "      <td>2843716</td>\n",
       "      <td>T_5609095082</td>\n",
       "      <td>0.1.2.24.4</td>\n",
       "      <td>MS_4660</td>\n",
       "      <td>MS_55085</td>\n",
       "      <td>[0, 1, 2, 24, 4]</td>\n",
       "      <td>5449</td>\n",
       "      <td>10343</td>\n",
       "    </tr>\n",
       "    <tr>\n",
       "      <th>...</th>\n",
       "      <td>...</td>\n",
       "      <td>...</td>\n",
       "      <td>...</td>\n",
       "      <td>...</td>\n",
       "      <td>...</td>\n",
       "      <td>...</td>\n",
       "      <td>...</td>\n",
       "      <td>...</td>\n",
       "    </tr>\n",
       "    <tr>\n",
       "      <th>13553600</th>\n",
       "      <td>2807605</td>\n",
       "      <td>T_19740788637</td>\n",
       "      <td>0.1.1</td>\n",
       "      <td>MS_67915</td>\n",
       "      <td>MS_53745</td>\n",
       "      <td>[0, 1, 1]</td>\n",
       "      <td>8554</td>\n",
       "      <td>10047</td>\n",
       "    </tr>\n",
       "    <tr>\n",
       "      <th>13553601</th>\n",
       "      <td>2788556</td>\n",
       "      <td>T_19740776011</td>\n",
       "      <td>0.1.1</td>\n",
       "      <td>MS_67915</td>\n",
       "      <td>MS_29680</td>\n",
       "      <td>[0, 1, 1]</td>\n",
       "      <td>8554</td>\n",
       "      <td>4545</td>\n",
       "    </tr>\n",
       "    <tr>\n",
       "      <th>13553604</th>\n",
       "      <td>2808606</td>\n",
       "      <td>T_19740760899</td>\n",
       "      <td>0.1</td>\n",
       "      <td>MS_2842</td>\n",
       "      <td>MS_49817</td>\n",
       "      <td>[0, 1]</td>\n",
       "      <td>2779</td>\n",
       "      <td>9130</td>\n",
       "    </tr>\n",
       "    <tr>\n",
       "      <th>13553605</th>\n",
       "      <td>2808606</td>\n",
       "      <td>T_19740760899</td>\n",
       "      <td>0.1</td>\n",
       "      <td>MS_2842</td>\n",
       "      <td>MS_49817</td>\n",
       "      <td>[0, 1]</td>\n",
       "      <td>2779</td>\n",
       "      <td>9130</td>\n",
       "    </tr>\n",
       "    <tr>\n",
       "      <th>13553606</th>\n",
       "      <td>2808656</td>\n",
       "      <td>T_19740760899</td>\n",
       "      <td>0.5.1.3350132160.1</td>\n",
       "      <td>MS_69708</td>\n",
       "      <td>MS_28617</td>\n",
       "      <td>[0, 5, 1, 3350132160, 1]</td>\n",
       "      <td>8827</td>\n",
       "      <td>4310</td>\n",
       "    </tr>\n",
       "  </tbody>\n",
       "</table>\n",
       "<p>54120415 rows × 8 columns</p>\n",
       "</div>"
      ]
     },
     "execution_count": 7,
     "metadata": {},
     "output_type": "execute_result"
    }
   ],
   "execution_count": 7
  },
  {
   "metadata": {
    "ExecuteTime": {
     "end_time": "2024-12-10T21:01:46.012999Z",
     "start_time": "2024-12-10T20:55:54.875241Z"
    }
   },
   "cell_type": "code",
   "source": [
    "sorted_groups_dict = {\n",
    "    trace_id: group.sort_values(by='rpc_id_parts')[['timestamp', 'traceid', 'rpc_id', 'um', 'dm', 'um_encoded', 'dm_encoded']].values.tolist()\n",
    "    for trace_id, group in df.groupby('traceid')\n",
    "}"
   ],
   "id": "524baa9f9b1f191a",
   "outputs": [],
   "execution_count": 8
  },
  {
   "metadata": {
    "ExecuteTime": {
     "end_time": "2024-12-10T21:50:03.305803Z",
     "start_time": "2024-12-10T21:50:03.302243Z"
    }
   },
   "cell_type": "code",
   "source": [
    "def dedup_group(group):\n",
    "    seen = set()\n",
    "    deduplicated_data = []\n",
    "    for row in group:\n",
    "        key = (row[0], row[1], row[2], row[3], row[4])\n",
    "        if key not in seen:\n",
    "            seen.add(key)\n",
    "            deduplicated_data.append(row)\n",
    "            \n",
    "    return deduplicated_data"
   ],
   "id": "d4808b2a3fdcc99f",
   "outputs": [],
   "execution_count": 29
  },
  {
   "metadata": {
    "ExecuteTime": {
     "end_time": "2024-12-10T21:50:19.426683Z",
     "start_time": "2024-12-10T21:50:03.888949Z"
    }
   },
   "cell_type": "code",
   "source": "dedup_grouped_data = {trace_id: dedup_group(group) for trace_id, group in sorted_groups_dict.items()}",
   "id": "46fc80987900fbef",
   "outputs": [],
   "execution_count": 30
  },
  {
   "metadata": {
    "ExecuteTime": {
     "end_time": "2024-12-10T21:50:20.339110Z",
     "start_time": "2024-12-10T21:50:20.227823Z"
    }
   },
   "cell_type": "code",
   "source": "lens = [len(grp) for grp in dedup_grouped_data.values()]",
   "id": "8acc99f2f0c930e4",
   "outputs": [],
   "execution_count": 31
  },
  {
   "metadata": {
    "ExecuteTime": {
     "end_time": "2024-12-10T21:50:20.916589Z",
     "start_time": "2024-12-10T21:50:20.887513Z"
    }
   },
   "cell_type": "code",
   "source": [
    "import numpy as np\n",
    "\n",
    "dedup_grouped_data[list(dedup_grouped_data.keys())[9]]"
   ],
   "id": "360bc4f826885a95",
   "outputs": [
    {
     "data": {
      "text/plain": [
       "[[2787397, 'T_10000260064', '0', 'USER', 'MS_3351', 9809, 5411],\n",
       " [2787410, 'T_10000260064', '0.1.1', 'MS_745', 'MS_18951', 9400, 2056],\n",
       " [2787475, 'T_10000260064', '0.1.1.1.1.3', 'MS_4159', 'MS_17511', 4692, 1713],\n",
       " [2787478, 'T_10000260064', '0.1.1.1.1.4', 'MS_4159', 'MS_59270', 4692, 11318],\n",
       " [2787481, 'T_10000260064', '0.1.1.1.1.5', 'MS_4159', 'MS_12212', 4692, 504]]"
      ]
     },
     "execution_count": 32,
     "metadata": {},
     "output_type": "execute_result"
    }
   ],
   "execution_count": 32
  },
  {
   "metadata": {
    "ExecuteTime": {
     "end_time": "2024-12-10T21:01:47.482894Z",
     "start_time": "2024-12-10T21:01:47.481075Z"
    }
   },
   "cell_type": "code",
   "source": "",
   "id": "7c735bc59cdbee26",
   "outputs": [],
   "execution_count": null
  },
  {
   "metadata": {
    "ExecuteTime": {
     "end_time": "2024-12-10T21:01:47.550006Z",
     "start_time": "2024-12-10T21:01:47.548819Z"
    }
   },
   "cell_type": "code",
   "source": "",
   "id": "4b11be1becdcb090",
   "outputs": [],
   "execution_count": null
  }
 ],
 "metadata": {
  "kernelspec": {
   "display_name": "Python 3",
   "language": "python",
   "name": "python3"
  },
  "language_info": {
   "codemirror_mode": {
    "name": "ipython",
    "version": 2
   },
   "file_extension": ".py",
   "mimetype": "text/x-python",
   "name": "python",
   "nbconvert_exporter": "python",
   "pygments_lexer": "ipython2",
   "version": "2.7.6"
  }
 },
 "nbformat": 4,
 "nbformat_minor": 5
}
