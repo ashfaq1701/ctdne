{
 "cells": [
  {
   "cell_type": "code",
   "id": "initial_id",
   "metadata": {
    "collapsed": true,
    "ExecuteTime": {
     "end_time": "2024-12-10T22:07:17.079755Z",
     "start_time": "2024-12-10T22:07:17.078237Z"
    }
   },
   "source": "import pandas as pd",
   "outputs": [],
   "execution_count": 1
  },
  {
   "metadata": {
    "ExecuteTime": {
     "end_time": "2024-12-10T22:08:13.384666Z",
     "start_time": "2024-12-10T22:07:17.082068Z"
    }
   },
   "cell_type": "code",
   "source": [
    "dfs = []\n",
    "\n",
    "for i in range(15, 20):\n",
    "    dfs.append(pd.read_csv(f'/Users/ashfaq/Documents/CallGraph_{i}.csv', on_bad_lines='skip'))\n",
    "    \n",
    "combined_df = pd.concat(dfs, axis=0)"
   ],
   "id": "33c03621c06fe262",
   "outputs": [],
   "execution_count": 2
  },
  {
   "metadata": {
    "ExecuteTime": {
     "end_time": "2024-12-10T22:08:13.526645Z",
     "start_time": "2024-12-10T22:08:13.517049Z"
    }
   },
   "cell_type": "code",
   "source": "combined_df",
   "id": "9ded2d64458bcc17",
   "outputs": [
    {
     "data": {
      "text/plain": [
       "          timestamp        traceid      service    rpc_id rpctype  \\\n",
       "0           2762003  T_17215484994   S_24282040         0    http   \n",
       "1           2746700   T_5609107797   S_12773374     0.1.1    http   \n",
       "2           2843715   T_5609095082  S_104419129  0.1.2.14      mc   \n",
       "3           2843715   T_5609095082  S_104419129  0.1.2.18      mc   \n",
       "4           2843714   T_5609095082  S_104419129  0.1.2.12      mc   \n",
       "...             ...            ...          ...       ...     ...   \n",
       "11856443    3424370   T_3151303869   S_78126003       0.1    http   \n",
       "11856444    3424370   T_3151303869   S_46341282       0.1    http   \n",
       "11856445    3424373   T_3151303869   S_78126003     0.1.4      mc   \n",
       "11856446    3424373   T_3151303869   S_46341282     0.1.4      mc   \n",
       "11856447    3424372   T_3151303869   S_46341282     0.1.3      mc   \n",
       "\n",
       "                   um      uminstanceid    interface           dm  \\\n",
       "0                USER              USER   yyeYb2GjKb     MS_41385   \n",
       "1             UNKNOWN       UNAVAILABLE   5cajw6w4ly     MS_41766   \n",
       "2             MS_4660  MS_4660_POD_3206   0REcWWf5yJ     MS_46825   \n",
       "3             MS_4660  MS_4660_POD_3206   27LLHBLtvK     MS_46825   \n",
       "4             MS_4660  MS_4660_POD_3206   0REcWWf5yJ     MS_46825   \n",
       "...               ...               ...          ...          ...   \n",
       "11856443  UNAVAILABLE       UNAVAILABLE  UNAVAILABLE  UNAVAILABLE   \n",
       "11856444  UNAVAILABLE       UNAVAILABLE  UNAVAILABLE  UNAVAILABLE   \n",
       "11856445  UNAVAILABLE       UNAVAILABLE  UNAVAILABLE  UNAVAILABLE   \n",
       "11856446  UNAVAILABLE       UNAVAILABLE  UNAVAILABLE  UNAVAILABLE   \n",
       "11856447  UNAVAILABLE       UNAVAILABLE  UNAVAILABLE  UNAVAILABLE   \n",
       "\n",
       "              dminstanceid    rt  \n",
       "0         MS_41385_POD_778  22.0  \n",
       "1         MS_41766_POD_127   1.0  \n",
       "2         MS_46825_POD_525   0.0  \n",
       "3         MS_46825_POD_525   0.0  \n",
       "4         MS_46825_POD_472   1.0  \n",
       "...                    ...   ...  \n",
       "11856443       UNAVAILABLE   NaN  \n",
       "11856444       UNAVAILABLE   NaN  \n",
       "11856445       UNAVAILABLE   NaN  \n",
       "11856446       UNAVAILABLE   NaN  \n",
       "11856447       UNAVAILABLE   NaN  \n",
       "\n",
       "[71564043 rows x 11 columns]"
      ],
      "text/html": [
       "<div>\n",
       "<style scoped>\n",
       "    .dataframe tbody tr th:only-of-type {\n",
       "        vertical-align: middle;\n",
       "    }\n",
       "\n",
       "    .dataframe tbody tr th {\n",
       "        vertical-align: top;\n",
       "    }\n",
       "\n",
       "    .dataframe thead th {\n",
       "        text-align: right;\n",
       "    }\n",
       "</style>\n",
       "<table border=\"1\" class=\"dataframe\">\n",
       "  <thead>\n",
       "    <tr style=\"text-align: right;\">\n",
       "      <th></th>\n",
       "      <th>timestamp</th>\n",
       "      <th>traceid</th>\n",
       "      <th>service</th>\n",
       "      <th>rpc_id</th>\n",
       "      <th>rpctype</th>\n",
       "      <th>um</th>\n",
       "      <th>uminstanceid</th>\n",
       "      <th>interface</th>\n",
       "      <th>dm</th>\n",
       "      <th>dminstanceid</th>\n",
       "      <th>rt</th>\n",
       "    </tr>\n",
       "  </thead>\n",
       "  <tbody>\n",
       "    <tr>\n",
       "      <th>0</th>\n",
       "      <td>2762003</td>\n",
       "      <td>T_17215484994</td>\n",
       "      <td>S_24282040</td>\n",
       "      <td>0</td>\n",
       "      <td>http</td>\n",
       "      <td>USER</td>\n",
       "      <td>USER</td>\n",
       "      <td>yyeYb2GjKb</td>\n",
       "      <td>MS_41385</td>\n",
       "      <td>MS_41385_POD_778</td>\n",
       "      <td>22.0</td>\n",
       "    </tr>\n",
       "    <tr>\n",
       "      <th>1</th>\n",
       "      <td>2746700</td>\n",
       "      <td>T_5609107797</td>\n",
       "      <td>S_12773374</td>\n",
       "      <td>0.1.1</td>\n",
       "      <td>http</td>\n",
       "      <td>UNKNOWN</td>\n",
       "      <td>UNAVAILABLE</td>\n",
       "      <td>5cajw6w4ly</td>\n",
       "      <td>MS_41766</td>\n",
       "      <td>MS_41766_POD_127</td>\n",
       "      <td>1.0</td>\n",
       "    </tr>\n",
       "    <tr>\n",
       "      <th>2</th>\n",
       "      <td>2843715</td>\n",
       "      <td>T_5609095082</td>\n",
       "      <td>S_104419129</td>\n",
       "      <td>0.1.2.14</td>\n",
       "      <td>mc</td>\n",
       "      <td>MS_4660</td>\n",
       "      <td>MS_4660_POD_3206</td>\n",
       "      <td>0REcWWf5yJ</td>\n",
       "      <td>MS_46825</td>\n",
       "      <td>MS_46825_POD_525</td>\n",
       "      <td>0.0</td>\n",
       "    </tr>\n",
       "    <tr>\n",
       "      <th>3</th>\n",
       "      <td>2843715</td>\n",
       "      <td>T_5609095082</td>\n",
       "      <td>S_104419129</td>\n",
       "      <td>0.1.2.18</td>\n",
       "      <td>mc</td>\n",
       "      <td>MS_4660</td>\n",
       "      <td>MS_4660_POD_3206</td>\n",
       "      <td>27LLHBLtvK</td>\n",
       "      <td>MS_46825</td>\n",
       "      <td>MS_46825_POD_525</td>\n",
       "      <td>0.0</td>\n",
       "    </tr>\n",
       "    <tr>\n",
       "      <th>4</th>\n",
       "      <td>2843714</td>\n",
       "      <td>T_5609095082</td>\n",
       "      <td>S_104419129</td>\n",
       "      <td>0.1.2.12</td>\n",
       "      <td>mc</td>\n",
       "      <td>MS_4660</td>\n",
       "      <td>MS_4660_POD_3206</td>\n",
       "      <td>0REcWWf5yJ</td>\n",
       "      <td>MS_46825</td>\n",
       "      <td>MS_46825_POD_472</td>\n",
       "      <td>1.0</td>\n",
       "    </tr>\n",
       "    <tr>\n",
       "      <th>...</th>\n",
       "      <td>...</td>\n",
       "      <td>...</td>\n",
       "      <td>...</td>\n",
       "      <td>...</td>\n",
       "      <td>...</td>\n",
       "      <td>...</td>\n",
       "      <td>...</td>\n",
       "      <td>...</td>\n",
       "      <td>...</td>\n",
       "      <td>...</td>\n",
       "      <td>...</td>\n",
       "    </tr>\n",
       "    <tr>\n",
       "      <th>11856443</th>\n",
       "      <td>3424370</td>\n",
       "      <td>T_3151303869</td>\n",
       "      <td>S_78126003</td>\n",
       "      <td>0.1</td>\n",
       "      <td>http</td>\n",
       "      <td>UNAVAILABLE</td>\n",
       "      <td>UNAVAILABLE</td>\n",
       "      <td>UNAVAILABLE</td>\n",
       "      <td>UNAVAILABLE</td>\n",
       "      <td>UNAVAILABLE</td>\n",
       "      <td>NaN</td>\n",
       "    </tr>\n",
       "    <tr>\n",
       "      <th>11856444</th>\n",
       "      <td>3424370</td>\n",
       "      <td>T_3151303869</td>\n",
       "      <td>S_46341282</td>\n",
       "      <td>0.1</td>\n",
       "      <td>http</td>\n",
       "      <td>UNAVAILABLE</td>\n",
       "      <td>UNAVAILABLE</td>\n",
       "      <td>UNAVAILABLE</td>\n",
       "      <td>UNAVAILABLE</td>\n",
       "      <td>UNAVAILABLE</td>\n",
       "      <td>NaN</td>\n",
       "    </tr>\n",
       "    <tr>\n",
       "      <th>11856445</th>\n",
       "      <td>3424373</td>\n",
       "      <td>T_3151303869</td>\n",
       "      <td>S_78126003</td>\n",
       "      <td>0.1.4</td>\n",
       "      <td>mc</td>\n",
       "      <td>UNAVAILABLE</td>\n",
       "      <td>UNAVAILABLE</td>\n",
       "      <td>UNAVAILABLE</td>\n",
       "      <td>UNAVAILABLE</td>\n",
       "      <td>UNAVAILABLE</td>\n",
       "      <td>NaN</td>\n",
       "    </tr>\n",
       "    <tr>\n",
       "      <th>11856446</th>\n",
       "      <td>3424373</td>\n",
       "      <td>T_3151303869</td>\n",
       "      <td>S_46341282</td>\n",
       "      <td>0.1.4</td>\n",
       "      <td>mc</td>\n",
       "      <td>UNAVAILABLE</td>\n",
       "      <td>UNAVAILABLE</td>\n",
       "      <td>UNAVAILABLE</td>\n",
       "      <td>UNAVAILABLE</td>\n",
       "      <td>UNAVAILABLE</td>\n",
       "      <td>NaN</td>\n",
       "    </tr>\n",
       "    <tr>\n",
       "      <th>11856447</th>\n",
       "      <td>3424372</td>\n",
       "      <td>T_3151303869</td>\n",
       "      <td>S_46341282</td>\n",
       "      <td>0.1.3</td>\n",
       "      <td>mc</td>\n",
       "      <td>UNAVAILABLE</td>\n",
       "      <td>UNAVAILABLE</td>\n",
       "      <td>UNAVAILABLE</td>\n",
       "      <td>UNAVAILABLE</td>\n",
       "      <td>UNAVAILABLE</td>\n",
       "      <td>NaN</td>\n",
       "    </tr>\n",
       "  </tbody>\n",
       "</table>\n",
       "<p>71564043 rows × 11 columns</p>\n",
       "</div>"
      ]
     },
     "execution_count": 3,
     "metadata": {},
     "output_type": "execute_result"
    }
   ],
   "execution_count": 3
  },
  {
   "metadata": {
    "ExecuteTime": {
     "end_time": "2024-12-10T22:08:31.522556Z",
     "start_time": "2024-12-10T22:08:13.574587Z"
    }
   },
   "cell_type": "code",
   "source": [
    "filtered_df = combined_df[(combined_df['um'] != 'UNKNOWN') & (combined_df['um'] != 'UNAVAILABLE') & \n",
    "                 (combined_df['dm'] != 'UNKNOWN') & (combined_df['dm'] != 'UNAVAILABLE')]"
   ],
   "id": "a749e8a50275efd7",
   "outputs": [],
   "execution_count": 4
  },
  {
   "metadata": {
    "ExecuteTime": {
     "end_time": "2024-12-10T22:08:34.382328Z",
     "start_time": "2024-12-10T22:08:31.546881Z"
    }
   },
   "cell_type": "code",
   "source": "df = filtered_df[['timestamp', 'traceid', 'rpc_id', 'um', 'dm']]",
   "id": "ce66f27f9b40a2e5",
   "outputs": [],
   "execution_count": 5
  },
  {
   "metadata": {
    "ExecuteTime": {
     "end_time": "2024-12-10T22:10:07.952677Z",
     "start_time": "2024-12-10T22:08:34.390718Z"
    }
   },
   "cell_type": "code",
   "source": "df['rpc_id_parts'] = df['rpc_id'].str.split('.').apply(lambda x: [int(part) for part in x])",
   "id": "73d73895b788e6ed",
   "outputs": [
    {
     "name": "stderr",
     "output_type": "stream",
     "text": [
      "/var/folders/4p/l36n5pc50sjbjc2ty8x_wsnw0000gn/T/ipykernel_55807/1447768535.py:1: SettingWithCopyWarning: \n",
      "A value is trying to be set on a copy of a slice from a DataFrame.\n",
      "Try using .loc[row_indexer,col_indexer] = value instead\n",
      "\n",
      "See the caveats in the documentation: https://pandas.pydata.org/pandas-docs/stable/user_guide/indexing.html#returning-a-view-versus-a-copy\n",
      "  df['rpc_id_parts'] = df['rpc_id'].str.split('.').apply(lambda x: [int(part) for part in x])\n"
     ]
    }
   ],
   "execution_count": 6
  },
  {
   "metadata": {
    "ExecuteTime": {
     "end_time": "2024-12-10T22:10:17.644674Z",
     "start_time": "2024-12-10T22:10:08.044895Z"
    }
   },
   "cell_type": "code",
   "source": [
    "from sklearn.preprocessing import LabelEncoder\n",
    "\n",
    "um_encoder = LabelEncoder()\n",
    "dm_encoder = LabelEncoder()\n",
    "\n",
    "df['um_encoded'] = um_encoder.fit_transform(df['um'])\n",
    "df['dm_encoded'] = um_encoder.fit_transform(df['dm'])"
   ],
   "id": "a2b299f2d2d23d1d",
   "outputs": [
    {
     "name": "stderr",
     "output_type": "stream",
     "text": [
      "/var/folders/4p/l36n5pc50sjbjc2ty8x_wsnw0000gn/T/ipykernel_55807/342505127.py:6: SettingWithCopyWarning: \n",
      "A value is trying to be set on a copy of a slice from a DataFrame.\n",
      "Try using .loc[row_indexer,col_indexer] = value instead\n",
      "\n",
      "See the caveats in the documentation: https://pandas.pydata.org/pandas-docs/stable/user_guide/indexing.html#returning-a-view-versus-a-copy\n",
      "  df['um_encoded'] = um_encoder.fit_transform(df['um'])\n",
      "/var/folders/4p/l36n5pc50sjbjc2ty8x_wsnw0000gn/T/ipykernel_55807/342505127.py:7: SettingWithCopyWarning: \n",
      "A value is trying to be set on a copy of a slice from a DataFrame.\n",
      "Try using .loc[row_indexer,col_indexer] = value instead\n",
      "\n",
      "See the caveats in the documentation: https://pandas.pydata.org/pandas-docs/stable/user_guide/indexing.html#returning-a-view-versus-a-copy\n",
      "  df['dm_encoded'] = um_encoder.fit_transform(df['dm'])\n"
     ]
    }
   ],
   "execution_count": 7
  },
  {
   "metadata": {
    "ExecuteTime": {
     "end_time": "2024-12-10T22:10:17.664772Z",
     "start_time": "2024-12-10T22:10:17.658512Z"
    }
   },
   "cell_type": "code",
   "source": "df",
   "id": "c48086ab773ba86d",
   "outputs": [
    {
     "data": {
      "text/plain": [
       "          timestamp        traceid      rpc_id        um        dm  \\\n",
       "0           2762003  T_17215484994           0      USER  MS_41385   \n",
       "2           2843715   T_5609095082    0.1.2.14   MS_4660  MS_46825   \n",
       "3           2843715   T_5609095082    0.1.2.18   MS_4660  MS_46825   \n",
       "4           2843714   T_5609095082    0.1.2.12   MS_4660  MS_46825   \n",
       "5           2843716   T_5609095082  0.1.2.24.4   MS_4660  MS_55085   \n",
       "...             ...            ...         ...       ...       ...   \n",
       "11856432    3422246   T_3151307537           0      USER  MS_41385   \n",
       "11856433    3424370   T_3151303869       0.1.1  MS_27237   MS_2827   \n",
       "11856434    3424370   T_3151303869       0.1.1  MS_27237   MS_2827   \n",
       "11856435    3424370   T_3151303869       0.1.1  MS_27237   MS_2827   \n",
       "11856436    3424370   T_3151303869       0.1.1  MS_27237   MS_2827   \n",
       "\n",
       "              rpc_id_parts  um_encoded  dm_encoded  \n",
       "0                      [0]       14821       10837  \n",
       "2            [0, 1, 2, 14]        8263       12725  \n",
       "3            [0, 1, 2, 18]        8263       12725  \n",
       "4            [0, 1, 2, 12]        8263       12725  \n",
       "5         [0, 1, 2, 24, 4]        8263       15534  \n",
       "...                    ...         ...         ...  \n",
       "11856432               [0]       14821       10837  \n",
       "11856433         [0, 1, 1]        3952        6385  \n",
       "11856434         [0, 1, 1]        3952        6385  \n",
       "11856435         [0, 1, 1]        3952        6385  \n",
       "11856436         [0, 1, 1]        3952        6385  \n",
       "\n",
       "[57371623 rows x 8 columns]"
      ],
      "text/html": [
       "<div>\n",
       "<style scoped>\n",
       "    .dataframe tbody tr th:only-of-type {\n",
       "        vertical-align: middle;\n",
       "    }\n",
       "\n",
       "    .dataframe tbody tr th {\n",
       "        vertical-align: top;\n",
       "    }\n",
       "\n",
       "    .dataframe thead th {\n",
       "        text-align: right;\n",
       "    }\n",
       "</style>\n",
       "<table border=\"1\" class=\"dataframe\">\n",
       "  <thead>\n",
       "    <tr style=\"text-align: right;\">\n",
       "      <th></th>\n",
       "      <th>timestamp</th>\n",
       "      <th>traceid</th>\n",
       "      <th>rpc_id</th>\n",
       "      <th>um</th>\n",
       "      <th>dm</th>\n",
       "      <th>rpc_id_parts</th>\n",
       "      <th>um_encoded</th>\n",
       "      <th>dm_encoded</th>\n",
       "    </tr>\n",
       "  </thead>\n",
       "  <tbody>\n",
       "    <tr>\n",
       "      <th>0</th>\n",
       "      <td>2762003</td>\n",
       "      <td>T_17215484994</td>\n",
       "      <td>0</td>\n",
       "      <td>USER</td>\n",
       "      <td>MS_41385</td>\n",
       "      <td>[0]</td>\n",
       "      <td>14821</td>\n",
       "      <td>10837</td>\n",
       "    </tr>\n",
       "    <tr>\n",
       "      <th>2</th>\n",
       "      <td>2843715</td>\n",
       "      <td>T_5609095082</td>\n",
       "      <td>0.1.2.14</td>\n",
       "      <td>MS_4660</td>\n",
       "      <td>MS_46825</td>\n",
       "      <td>[0, 1, 2, 14]</td>\n",
       "      <td>8263</td>\n",
       "      <td>12725</td>\n",
       "    </tr>\n",
       "    <tr>\n",
       "      <th>3</th>\n",
       "      <td>2843715</td>\n",
       "      <td>T_5609095082</td>\n",
       "      <td>0.1.2.18</td>\n",
       "      <td>MS_4660</td>\n",
       "      <td>MS_46825</td>\n",
       "      <td>[0, 1, 2, 18]</td>\n",
       "      <td>8263</td>\n",
       "      <td>12725</td>\n",
       "    </tr>\n",
       "    <tr>\n",
       "      <th>4</th>\n",
       "      <td>2843714</td>\n",
       "      <td>T_5609095082</td>\n",
       "      <td>0.1.2.12</td>\n",
       "      <td>MS_4660</td>\n",
       "      <td>MS_46825</td>\n",
       "      <td>[0, 1, 2, 12]</td>\n",
       "      <td>8263</td>\n",
       "      <td>12725</td>\n",
       "    </tr>\n",
       "    <tr>\n",
       "      <th>5</th>\n",
       "      <td>2843716</td>\n",
       "      <td>T_5609095082</td>\n",
       "      <td>0.1.2.24.4</td>\n",
       "      <td>MS_4660</td>\n",
       "      <td>MS_55085</td>\n",
       "      <td>[0, 1, 2, 24, 4]</td>\n",
       "      <td>8263</td>\n",
       "      <td>15534</td>\n",
       "    </tr>\n",
       "    <tr>\n",
       "      <th>...</th>\n",
       "      <td>...</td>\n",
       "      <td>...</td>\n",
       "      <td>...</td>\n",
       "      <td>...</td>\n",
       "      <td>...</td>\n",
       "      <td>...</td>\n",
       "      <td>...</td>\n",
       "      <td>...</td>\n",
       "    </tr>\n",
       "    <tr>\n",
       "      <th>11856432</th>\n",
       "      <td>3422246</td>\n",
       "      <td>T_3151307537</td>\n",
       "      <td>0</td>\n",
       "      <td>USER</td>\n",
       "      <td>MS_41385</td>\n",
       "      <td>[0]</td>\n",
       "      <td>14821</td>\n",
       "      <td>10837</td>\n",
       "    </tr>\n",
       "    <tr>\n",
       "      <th>11856433</th>\n",
       "      <td>3424370</td>\n",
       "      <td>T_3151303869</td>\n",
       "      <td>0.1.1</td>\n",
       "      <td>MS_27237</td>\n",
       "      <td>MS_2827</td>\n",
       "      <td>[0, 1, 1]</td>\n",
       "      <td>3952</td>\n",
       "      <td>6385</td>\n",
       "    </tr>\n",
       "    <tr>\n",
       "      <th>11856434</th>\n",
       "      <td>3424370</td>\n",
       "      <td>T_3151303869</td>\n",
       "      <td>0.1.1</td>\n",
       "      <td>MS_27237</td>\n",
       "      <td>MS_2827</td>\n",
       "      <td>[0, 1, 1]</td>\n",
       "      <td>3952</td>\n",
       "      <td>6385</td>\n",
       "    </tr>\n",
       "    <tr>\n",
       "      <th>11856435</th>\n",
       "      <td>3424370</td>\n",
       "      <td>T_3151303869</td>\n",
       "      <td>0.1.1</td>\n",
       "      <td>MS_27237</td>\n",
       "      <td>MS_2827</td>\n",
       "      <td>[0, 1, 1]</td>\n",
       "      <td>3952</td>\n",
       "      <td>6385</td>\n",
       "    </tr>\n",
       "    <tr>\n",
       "      <th>11856436</th>\n",
       "      <td>3424370</td>\n",
       "      <td>T_3151303869</td>\n",
       "      <td>0.1.1</td>\n",
       "      <td>MS_27237</td>\n",
       "      <td>MS_2827</td>\n",
       "      <td>[0, 1, 1]</td>\n",
       "      <td>3952</td>\n",
       "      <td>6385</td>\n",
       "    </tr>\n",
       "  </tbody>\n",
       "</table>\n",
       "<p>57371623 rows × 8 columns</p>\n",
       "</div>"
      ]
     },
     "execution_count": 8,
     "metadata": {},
     "output_type": "execute_result"
    }
   ],
   "execution_count": 8
  },
  {
   "metadata": {
    "ExecuteTime": {
     "end_time": "2024-12-10T22:34:54.703784Z",
     "start_time": "2024-12-10T22:10:17.689832Z"
    }
   },
   "cell_type": "code",
   "source": [
    "sorted_groups_dict = {\n",
    "    trace_id: group.sort_values(by='rpc_id_parts')[['timestamp', 'traceid', 'rpc_id', 'um', 'dm', 'um_encoded', 'dm_encoded']].values.tolist()\n",
    "    for trace_id, group in df.groupby('traceid')\n",
    "}"
   ],
   "id": "524baa9f9b1f191a",
   "outputs": [],
   "execution_count": 9
  },
  {
   "metadata": {
    "ExecuteTime": {
     "end_time": "2024-12-10T22:38:28.326697Z",
     "start_time": "2024-12-10T22:38:25.460535Z"
    }
   },
   "cell_type": "code",
   "source": "lens = [len(grp) for grp in sorted_groups_dict.values()]",
   "id": "8acc99f2f0c930e4",
   "outputs": [],
   "execution_count": 19
  },
  {
   "metadata": {
    "ExecuteTime": {
     "end_time": "2024-12-10T22:39:12.606270Z",
     "start_time": "2024-12-10T22:39:12.468449Z"
    }
   },
   "cell_type": "code",
   "source": "sorted_groups_dict[list(sorted_groups_dict.keys())[10]]",
   "id": "141cba2de16f3c12",
   "outputs": [
    {
     "data": {
      "text/plain": [
       "[[3022975, 'T_1000002895', '0', 'USER', 'MS_51863', 14821, 14452],\n",
       " [3022975, 'T_1000002895', '0.1', 'MS_51863', 'MS_28050', 9402, 6304],\n",
       " [3022975, 'T_1000002895', '0.1', 'MS_51863', 'MS_28050', 9402, 6304],\n",
       " [3022975, 'T_1000002895', '0.1.1', 'MS_28050', 'MS_63512', 4130, 18372],\n",
       " [3022976, 'T_1000002895', '0.1.1.1', 'MS_28050', 'MS_63512', 4130, 18372],\n",
       " [3022976, 'T_1000002895', '0.2', 'MS_51863', 'MS_63512', 9402, 18372]]"
      ]
     },
     "execution_count": 21,
     "metadata": {},
     "output_type": "execute_result"
    }
   ],
   "execution_count": 21
  },
  {
   "metadata": {
    "ExecuteTime": {
     "end_time": "2024-12-10T22:38:11.012902Z",
     "start_time": "2024-12-10T22:38:10.861813Z"
    }
   },
   "cell_type": "code",
   "source": [
    "import numpy as np\n",
    "\n",
    "sorted_groups_dict[list(sorted_groups_dict.keys())[4]]"
   ],
   "id": "360bc4f826885a95",
   "outputs": [
    {
     "data": {
      "text/plain": [
       "[[2898096, 'T_10000014148', '0.1.1.1', 'MS_745', 'MS_65689', 14244, 19112]]"
      ]
     },
     "execution_count": 18,
     "metadata": {},
     "output_type": "execute_result"
    }
   ],
   "execution_count": 18
  },
  {
   "metadata": {
    "ExecuteTime": {
     "end_time": "2024-12-10T22:35:15.226826Z",
     "start_time": "2024-12-10T22:35:15.225538Z"
    }
   },
   "cell_type": "code",
   "source": "",
   "id": "7c735bc59cdbee26",
   "outputs": [],
   "execution_count": null
  },
  {
   "metadata": {
    "ExecuteTime": {
     "end_time": "2024-12-10T22:35:15.867324Z",
     "start_time": "2024-12-10T22:35:15.866003Z"
    }
   },
   "cell_type": "code",
   "source": "",
   "id": "4b11be1becdcb090",
   "outputs": [],
   "execution_count": null
  }
 ],
 "metadata": {
  "kernelspec": {
   "display_name": "Python 3",
   "language": "python",
   "name": "python3"
  },
  "language_info": {
   "codemirror_mode": {
    "name": "ipython",
    "version": 2
   },
   "file_extension": ".py",
   "mimetype": "text/x-python",
   "name": "python",
   "nbconvert_exporter": "python",
   "pygments_lexer": "ipython2",
   "version": "2.7.6"
  }
 },
 "nbformat": 4,
 "nbformat_minor": 5
}
