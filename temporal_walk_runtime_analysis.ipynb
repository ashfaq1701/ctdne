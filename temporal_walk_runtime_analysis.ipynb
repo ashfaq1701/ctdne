{
 "cells": [
  {
   "cell_type": "code",
   "id": "initial_id",
   "metadata": {
    "collapsed": true,
    "ExecuteTime": {
     "end_time": "2024-12-06T00:29:44.859008Z",
     "start_time": "2024-12-06T00:29:44.857088Z"
    }
   },
   "source": [
    "import numpy as np\n",
    "\n",
    "def create_temporal_graph(num_nodes, num_edges, total_timesteps):\n",
    "    edges = []\n",
    "    \n",
    "    for i in range(num_edges):\n",
    "        node_a = np.random.choice(range(1, num_nodes + 1))\n",
    "        node_b = np.random.choice(range(1, num_nodes + 1))\n",
    "        timestep = np.random.choice(range(total_timesteps))\n",
    "        edges.append((node_a, node_b, timestep))"
   ],
   "outputs": [],
   "execution_count": 1
  },
  {
   "metadata": {
    "ExecuteTime": {
     "end_time": "2024-12-06T00:55:13.908246Z",
     "start_time": "2024-12-06T00:55:13.893840Z"
    }
   },
   "cell_type": "code",
   "source": [
    "from temporal_walk import TemporalWalk\n",
    "import time\n",
    "\n",
    "def get_temporal_walk_gen_time(temporal_walk: TemporalWalk):\n",
    "    begin_time = time.time()\n",
    "    walks = temporal_walk.get_random_walks_with_times('Random')\n",
    "    end_time = time.time()\n",
    "    elapsed_time = end_time - begin_time\n",
    "    return elapsed_time"
   ],
   "id": "7faec8a96ffb0c29",
   "outputs": [],
   "execution_count": 2
  },
  {
   "metadata": {
    "ExecuteTime": {
     "end_time": "2024-12-06T00:58:52.639006Z",
     "start_time": "2024-12-06T00:58:52.631963Z"
    }
   },
   "cell_type": "code",
   "source": [
    "def populate_graph_and_temporal_walk_gen_time(edges, num_walks, len_walk, random_picker):\n",
    "    temporal_walk = TemporalWalk(num_walks, len_walk, random_picker, None)\n",
    "    temporal_walk.add_multiple_edges(edges)\n",
    "    return get_temporal_walk_gen_time(temporal_walk)"
   ],
   "id": "60cbdc2378a2fc57",
   "outputs": [],
   "execution_count": 3
  },
  {
   "metadata": {},
   "cell_type": "code",
   "outputs": [],
   "execution_count": null,
   "source": "",
   "id": "a103b15c15b20ab2"
  }
 ],
 "metadata": {
  "kernelspec": {
   "display_name": "Python 3",
   "language": "python",
   "name": "python3"
  },
  "language_info": {
   "codemirror_mode": {
    "name": "ipython",
    "version": 2
   },
   "file_extension": ".py",
   "mimetype": "text/x-python",
   "name": "python",
   "nbconvert_exporter": "python",
   "pygments_lexer": "ipython2",
   "version": "2.7.6"
  }
 },
 "nbformat": 4,
 "nbformat_minor": 5
}
